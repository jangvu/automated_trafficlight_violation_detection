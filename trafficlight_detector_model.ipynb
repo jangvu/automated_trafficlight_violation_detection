{
  "nbformat": 4,
  "nbformat_minor": 0,
  "metadata": {
    "colab": {
      "name": "trafficlight_detector_model.ipynb",
      "provenance": [],
      "collapsed_sections": [],
      "machine_shape": "hm"
    },
    "kernelspec": {
      "name": "python3",
      "display_name": "Python 3"
    },
    "language_info": {
      "name": "python"
    },
    "accelerator": "GPU"
  },
  "cells": [
    {
      "cell_type": "code",
      "execution_count": null,
      "metadata": {
        "id": "_v-1jvm3338E"
      },
      "outputs": [],
      "source": [
        "# checking GPU\n",
        "!nvidia-smi"
      ]
    },
    {
      "cell_type": "code",
      "source": [
        "from google.colab import drive\n",
        "drive.mount('/content/gdrive')"
      ],
      "metadata": {
        "id": "_zhfgPUd4FCX"
      },
      "execution_count": null,
      "outputs": []
    },
    {
      "cell_type": "code",
      "source": [
        "# Clone\n",
        "!git clone https://github.com/AlexeyAB/darknet"
      ],
      "metadata": {
        "id": "cUtgWKzU41TQ"
      },
      "execution_count": null,
      "outputs": []
    },
    {
      "cell_type": "code",
      "source": [
        "# Configure to use GPU and CUDNN\n",
        "%cd darknet\n",
        "!sed -i 's/OPENCV=0/OPENCV=1/' Makefile\n",
        "!sed -i 's/GPU=0/GPU=1/' Makefile\n",
        "!sed -i 's/CUDNN=0/CUDNN=1/' Makefile"
      ],
      "metadata": {
        "colab": {
          "base_uri": "https://localhost:8080/"
        },
        "id": "08gvoWcI4GjF",
        "outputId": "e68b614a-86da-46e6-8be4-a35764660298"
      },
      "execution_count": null,
      "outputs": [
        {
          "output_type": "stream",
          "name": "stdout",
          "text": [
            "/content/darknet\n"
          ]
        }
      ]
    },
    {
      "cell_type": "code",
      "source": [
        "# compile\n",
        "!make"
      ],
      "metadata": {
        "id": "kQ9SsLb843WY"
      },
      "execution_count": null,
      "outputs": []
    },
    {
      "cell_type": "code",
      "source": [
        "# Make a copy of yolov3.cfg\n",
        "!cp cfg/yolov3.cfg cfg/yolov3_training.cfg"
      ],
      "metadata": {
        "id": "-dA5CMsj44rP"
      },
      "execution_count": null,
      "outputs": []
    },
    {
      "cell_type": "code",
      "source": [
        "# Change lines in yolov3.cfg file\n",
        "!sed -i 's/batch=1/batch=64/' cfg/yolov3_training.cfg\n",
        "!sed -i 's/subdivisions=1/subdivisions=16/' cfg/yolov3_training.cfg\n",
        "# number of classes * 2000\n",
        "!sed -i 's/max_batches = 500200/max_batches = 10000/' cfg/yolov3_training.cfg\n",
        "# number of classes\n",
        "!sed -i '610 s@classes=80@classes=5@' cfg/yolov3_training.cfg\n",
        "!sed -i '696 s@classes=80@classes=5@' cfg/yolov3_training.cfg\n",
        "!sed -i '783 s@classes=80@classes=5@' cfg/yolov3_training.cfg\n",
        "# (5 + number of classes) * 3\n",
        "!sed -i '603 s@filters=255@filters=30@' cfg/yolov3_training.cfg\n",
        "!sed -i '689 s@filters=255@filters=30@' cfg/yolov3_training.cfg\n",
        "!sed -i '776 s@filters=255@filters=30@' cfg/yolov3_training.cfg"
      ],
      "metadata": {
        "id": "oIrUot7I46fI"
      },
      "execution_count": null,
      "outputs": []
    },
    {
      "cell_type": "code",
      "source": [
        "# Store object detail\n",
        "!echo -e 'red\\nyellow\\ngreen\\noff\\nwait_on' > data/obj.names"
      ],
      "metadata": {
        "id": "Vbn57eEG50fs"
      },
      "execution_count": null,
      "outputs": []
    },
    {
      "cell_type": "code",
      "source": [
        "!echo -e 'classes= 5\\ntrain  = data/train.txt\\nvalid  = data/test.txt\\nnames = data/obj.names\\nbackup = /content/gdrive/MyDrive/yolov3' > data/obj.data\n"
      ],
      "metadata": {
        "id": "quNjoK1P52cW"
      },
      "execution_count": null,
      "outputs": []
    },
    {
      "cell_type": "code",
      "source": [
        "!cp cfg/yolov3_training.cfg /content/gdrive/MyDrive/yolov3/yolov3_testing.cfg\n",
        "!cp data/obj.names /content/gdrive/MyDrive/yolov3/classes.txt"
      ],
      "metadata": {
        "id": "trXbKgxL6BO4"
      },
      "execution_count": null,
      "outputs": []
    },
    {
      "cell_type": "code",
      "source": [
        "!mkdir /content/darknet/data/obj\n",
        "#!unzip /content/gdrive/MyDrive/yolov3/images.zip -d /content/darknet/data/obj"
      ],
      "metadata": {
        "id": "GApehJye7Vh0"
      },
      "execution_count": null,
      "outputs": []
    },
    {
      "cell_type": "code",
      "source": [
        "!cp -r /content/gdrive/MyDrive/yolov3/images/. /content/darknet/data/obj"
      ],
      "metadata": {
        "id": "Zi8oyXu6DP4l"
      },
      "execution_count": null,
      "outputs": []
    },
    {
      "cell_type": "code",
      "source": [
        "import glob\n",
        "images_list = glob.glob(\"/content/darknet/data/obj/*.jpg\")\n",
        "with open(\"/content/darknet/data/train.txt\", \"w\") as f:\n",
        "    f.write(\"\\n\".join(images_list))"
      ],
      "metadata": {
        "id": "gg6DHK3r7XV6"
      },
      "execution_count": null,
      "outputs": []
    },
    {
      "cell_type": "code",
      "source": [
        "!wget https://pjreddie.com/media/files/darknet53.conv.74"
      ],
      "metadata": {
        "id": "k6l65Nx87ZmP"
      },
      "execution_count": null,
      "outputs": []
    },
    {
      "cell_type": "code",
      "source": [
        "#!./darknet detector train data/obj.data cfg/yolov3_training.cfg darknet53.conv.74 -dont_show\n",
        "# re-start your training from last saved weights\n",
        "!./darknet detector train data/obj.data cfg/yolov3_training.cfg  /content/gdrive/MyDrive/yolov3/yolov3_training_last.weights -dont_show"
      ],
      "metadata": {
        "id": "WIW7Fp9r7bW6"
      },
      "execution_count": null,
      "outputs": []
    },
    {
      "cell_type": "code",
      "source": [
        ""
      ],
      "metadata": {
        "id": "X4iALvrY7eD-"
      },
      "execution_count": null,
      "outputs": []
    }
  ]
}